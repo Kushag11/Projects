{
  "nbformat": 4,
  "nbformat_minor": 0,
  "metadata": {
    "colab": {
      "provenance": [],
      "authorship_tag": "ABX9TyM19Ux1K1dYRcQN02Uec2Fx",
      "include_colab_link": true
    },
    "kernelspec": {
      "name": "python3",
      "display_name": "Python 3"
    },
    "language_info": {
      "name": "python"
    }
  },
  "cells": [
    {
      "cell_type": "markdown",
      "metadata": {
        "id": "view-in-github",
        "colab_type": "text"
      },
      "source": [
        "<a href=\"https://colab.research.google.com/github/Kushag11/Projects/blob/main/Mandatory_project.ipynb\" target=\"_parent\"><img src=\"https://colab.research.google.com/assets/colab-badge.svg\" alt=\"Open In Colab\"/></a>"
      ]
    },
    {
      "cell_type": "code",
      "execution_count": null,
      "metadata": {
        "colab": {
          "base_uri": "https://localhost:8080/"
        },
        "id": "HfgPIFh3CZcR",
        "outputId": "d5b68a04-c3b8-4323-bb8f-08f3ea310d1b"
      },
      "outputs": [
        {
          "output_type": "stream",
          "name": "stdout",
          "text": [
            "['Mahesh', 'Ali', 'Jacob']\n"
          ]
        }
      ],
      "source": [
        "# 1 - You are working in a bank, and you have been given two lists of the employees who worked in 2021.\n",
        "#Employees’ names in list 1 are Ramesh, Suresh, Mahesh, Ali, Jacob, and Saritha. List 2 contains the names of Ali, Mukesh, Mahesh,\n",
        "#Jacob, Sai, and Sarita. Please write a program that helps to identify people who are common in both lists. Please do not use any in-built function.\n",
        "\n",
        "list1 = ['Ramesh' , 'Suresh' , 'Mahesh' , 'Ali' , 'Jacob' , 'Saritha']\n",
        "list2 = ['Ali' , 'Mukesh' , 'Mahesh' ,'Jacob' , 'Sai' , 'Sarita']\n",
        "list3 = []\n",
        "for i in list1:\n",
        "  for j in list2:\n",
        "    #print(i,j)\n",
        "    if i==j:\n",
        "      #print(i,j)\n",
        "      list3.append(i)\n",
        "print(list3)\n",
        "\n"
      ]
    },
    {
      "cell_type": "code",
      "source": [
        "# 2 - While entering data, someone entered a few names as a common string “Ramesh Suresh Mohit”.\n",
        "#Please write a program which separates all the names and converts them into a list.\n",
        "#Once converted into a list, please write a program that adds their age.\n",
        "#  Ramesh:  25\n",
        "#  Suresh: 22\n",
        "#  Mohit: 26\n",
        "\n",
        "str = 'Ramesh Suresh Mohit'\n",
        "lis = list(str.split(\" \"))\n",
        "print(lis)\n",
        "dic = {'Ramesh':25 , 'suresh':22 , 'Mohit':26}\n",
        "sum = 0\n",
        "for k,v in dic.items():\n",
        "  sum += v\n",
        "print(\"The total sum of the ages: \",sum)\n",
        "\n"
      ],
      "metadata": {
        "colab": {
          "base_uri": "https://localhost:8080/"
        },
        "id": "_Pv9b_ZADd08",
        "outputId": "29f3f598-3d34-47a3-9768-80a04812e84e"
      },
      "execution_count": null,
      "outputs": [
        {
          "output_type": "stream",
          "name": "stdout",
          "text": [
            "['Ramesh', 'Suresh', 'Mohit']\n",
            "The total sum of the ages:  73\n"
          ]
        }
      ]
    },
    {
      "cell_type": "code",
      "source": [
        "# 3 - You are working in a medical store. A patient came to your medical store and asked to buy 2 strips of paracetamol,\n",
        "# 3 strips of azithromycin, and 5 strips of Vitamin C. One strip of paracetamol costs Rs 35, one strip of azithromycin costs Rs 49,\n",
        "# and one strip of vitamin c costs Rs. 33. Patient gave you Rs 2000. Please tell us what is the total cost of each medicine,\n",
        "# the total cost of all medicine, and how much money you refunded to the patient.\n",
        "med = ('Paracetomol' , 'Azithromycin' , 'Vitamin C')\n",
        "price = (33 , 49 , 33)\n",
        "purchase = {'Paracetomol':2 , 'Azithromycin':3 , 'Vitamin C':5 }\n",
        "balance = 2000\n",
        "\n",
        "def medical(med , price , purchase):\n",
        "  total_cost = 0\n",
        "  for k,v in purchase.items():\n",
        "    #print(k,v)\n",
        "    i = med.index(k)\n",
        "    #print(i)\n",
        "    c = price[i]*v\n",
        "    print(\"The total cost of \", k , \"is:  \", c)\n",
        "    total_cost += c\n",
        "  return(total_cost)\n",
        "\n",
        "\n",
        "total_amount = medical(med , price , purchase)\n",
        "rem_balance = balance - total_amount\n",
        "print(\"The total cost of medicines: \",total_amount)\n",
        "print(\"The remaining amount: \",rem_balance)"
      ],
      "metadata": {
        "colab": {
          "base_uri": "https://localhost:8080/"
        },
        "id": "B87I6pvnyrPy",
        "outputId": "76c90791-9c63-4309-f740-a8a04b06115e"
      },
      "execution_count": null,
      "outputs": [
        {
          "output_type": "stream",
          "name": "stdout",
          "text": [
            "The total cost of  Paracetomol is:   66\n",
            "The total cost of  Azithromycin is:   147\n",
            "The total cost of  Vitamin C is:   165\n",
            "The total cost of medicines:  378\n",
            "The remaining amount:  1622\n"
          ]
        }
      ]
    },
    {
      "cell_type": "code",
      "source": [
        "#Q4: Accept a sentence as input and find the number of vowels in it. Assume that the sentence has no punctuation marks.\n",
        "# For example, I am learning python contains 6 vowels. This function should be applicable for all other different sentences.\n",
        "\n",
        "\n",
        "def vowels(str):\n",
        "  count = 0\n",
        "  for i in str:\n",
        "    if i in 'aeiouAEIOU':\n",
        "      count += 1\n",
        "  print(count)\n",
        "\n",
        "\n",
        "str = input(\"Enter the string: \")\n",
        "vowels(str)\n",
        "\n",
        "\n",
        "\n"
      ],
      "metadata": {
        "colab": {
          "base_uri": "https://localhost:8080/"
        },
        "id": "mpavVIWJ0ViE",
        "outputId": "918103fb-c09e-4f61-dc50-2f67f2ceeccd"
      },
      "execution_count": null,
      "outputs": [
        {
          "output_type": "stream",
          "name": "stdout",
          "text": [
            "Enter the string: kushagra\n",
            "3\n"
          ]
        }
      ]
    },
    {
      "cell_type": "code",
      "source": [
        "#5 - You have been appointed by the election commission to create a website. Your first task is to work on a program which tells candidates\n",
        "# if they are eligible for voting or not. If they are eligible, your output should be ‘Congrats! You are eligible’; otherwise, it should\n",
        "# tell that you have to return after X number of years. The eligibility criteria for voting is 18 years.\n",
        "\n",
        "#For example, If someone is 18 or above, your output should be ‘Congrats! You are eligible’. If someone’s age is 15 years, it should\n",
        "#print output as ‘return after 3 years’.\n",
        "\n",
        "age = int(input(\"Enter your age: \"))\n",
        "if age>=18:\n",
        "  print(\"Congrats! You are eligible\")\n",
        "else:\n",
        "  print(\"return after\",18-age,\"years\")"
      ],
      "metadata": {
        "id": "MNMHzxwk_Uo-",
        "colab": {
          "base_uri": "https://localhost:8080/"
        },
        "outputId": "f321e6dc-20fc-4595-eba1-9977fea29393"
      },
      "execution_count": null,
      "outputs": [
        {
          "output_type": "stream",
          "name": "stdout",
          "text": [
            "Enter your age: 15\n",
            "return after 3 years\n"
          ]
        }
      ]
    },
    {
      "cell_type": "code",
      "source": [
        "#Q6: Longest Increasing Subsequence\n",
        "#Given an unsorted array of integers, find the length of the longest increasing subsequence (LIS).\n",
        "#Example:\n",
        "#Input: [10,9,2,5,3,7,101,18]\n",
        "#Output: 4\n",
        "\n",
        "arr = [10,9,2,5,3,7,101,18]\n",
        "count = 0\n",
        "for i in range(len(arr)-1):\n",
        "  if arr[i]<arr[i+1]:\n",
        "    #print(arr[i],arr[i+1])\n",
        "    count += 1\n",
        "\n",
        "print(count)\n",
        "\n",
        "\n"
      ],
      "metadata": {
        "colab": {
          "base_uri": "https://localhost:8080/"
        },
        "id": "wLf5x53-Br1o",
        "outputId": "29183717-bed6-408e-bb3f-e9631ae03d15"
      },
      "execution_count": null,
      "outputs": [
        {
          "output_type": "stream",
          "name": "stdout",
          "text": [
            "3\n"
          ]
        }
      ]
    },
    {
      "cell_type": "code",
      "source": [],
      "metadata": {
        "id": "bpOdGvFzEwlL"
      },
      "execution_count": null,
      "outputs": []
    }
  ]
}